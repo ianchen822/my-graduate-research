{
 "cells": [
  {
   "cell_type": "code",
   "execution_count": 14,
   "id": "8ec84f04",
   "metadata": {},
   "outputs": [],
   "source": [
    "from pathlib import Path\n",
    "import nbformat\n",
    "\n",
    "def load_notebook(notebook_path):\n",
    "    with open(notebook_path, 'r', encoding='utf-8') as f:\n",
    "        nb = nbformat.read(f, as_version=4)\n",
    "    code_cells = [cell.source for cell in nb.cells if cell.cell_type == 'code']\n",
    "    exec('\\n'.join(code_cells), globals())\n",
    "\n",
    "# import written function and variable\n",
    "\n",
    "parent_directory = Path('../../../')\n",
    "data_preprocessing_utils_path = parent_directory / 'data_preprocessing_utils.ipynb'\n",
    "\n",
    "load_notebook(data_preprocessing_utils_path)"
   ]
  },
  {
   "cell_type": "code",
   "execution_count": 16,
   "id": "cbd92569",
   "metadata": {},
   "outputs": [
    {
     "name": "stdout",
     "output_type": "stream",
     "text": [
      "                  user_id user_concatenated_reviews_with_business_categories\n",
      "0  -2cKJFFNJ9XVyWBt62mWvA  review_1: This is a Beer, Wine & Spirits, Chin...\n",
      "1  -3s52C4zL_DHRK0ULG6qtg  review_1: This is a Shopping, Food, Art Galler...\n",
      "2  -FxsSuwDbIII7yo5BjHpiA  review_1: This is a Coffee Roasteries, Coffee ...\n",
      "3  -G7Zkl1wIWBBmD0KRy_sCw  review_1: This is a Korean, American (Traditio...\n",
      "4  -GowNe73gDZs9MfS3ugJDQ  review_1: This is a Food, Breweries, American ...\n",
      "              business_id  \\\n",
      "0  -0TffRSXXIlBYVbb5AwfTg   \n",
      "1  -1PG6k_iezwJmRZLB7f6og   \n",
      "2  -4mDMBfT6N0d-VIUTKVaLg   \n",
      "3  -81BXpO5Fuk-RqCabS7LMw   \n",
      "4  -AanHawaDlzWHQjrqRRWig   \n",
      "\n",
      "  business_concatenated_reviews_with_business_categories  \n",
      "0  This is a Cocktail Bars, Food Delivery Service...      \n",
      "1  This is a Food, Cocktail Bars, American (New),...      \n",
      "2  This is a German, Food, Local Flavor, Grocery,...      \n",
      "3  This is a Nightlife, Beer Bar, American (New),...      \n",
      "4  This is a Bakeries, Food, Cafes restaurant.\\nr...      \n"
     ]
    }
   ],
   "source": [
    "import os\n",
    "import pandas as pd\n",
    "import numpy as np\n",
    "\n",
    "data_path = '../'\n",
    "\n",
    "train_data = pd.read_csv(os.path.join(data_path, 'research_training_set.csv'))\n",
    "\n",
    "user_data, business_data = formatting_content_method_v3(train_data)"
   ]
  },
  {
   "cell_type": "code",
   "execution_count": 17,
   "id": "d0199e85",
   "metadata": {},
   "outputs": [
    {
     "name": "stdout",
     "output_type": "stream",
     "text": [
      "review_1: This is a Beer, Wine & Spirits, Chinese, Food, Szechuan, Noodles, Soup restaurant. If you're looking for a variety of Asian dishes for moderate prices, this the food place. Also come hungry. The portions are very large. An excellent feature Han offers is your ability to select the level of heat or spiciness that is right for you. This is a big place and most of the time reservations are not needed... except maybe weekends. The noodle dishes are particularly good. \n",
      "The staff is very accommodating. Most of the time they are willing to customize an order. \n",
      "This is a great place for groups.\n",
      "review_2: This is a Food, Desserts, Bakeries restaurant. When it comes to pastries... especially Italian pastries... Isgro is the best of the best. Ok I'll say it Isgro's cannolis are better then Termini's. But even better you must try Isgro's rum babas. Out of this world! \n",
      "The fruit filled pastries are also excellent. And the cheesecake is wonderful. But I usually decide on the Italian Cream Cake when having guests for dinner. \n",
      "Isgro's pastries can be pricey but you get what you pay for. \n",
      "The staff has been there forever. So be clear about what you want.\n",
      "review_3: This is a Bars, Pubs, Irish Pub, Nightlife, Sports Bars, American (New) restaurant. If your looking for an informal dining spot with a friendly atmosphere. This place should work for you... particularly if you like oak paneling in the arts and craft style. \n",
      "The drinks are reasonably priced and the apps are generous. I recommend the Mac & Cheese as well as the hummus. \n",
      "It's easy to walk by this place with its small hanging sign and it's unobtrusive late victorian facade. \n",
      "So keep a sharp eye and you will enjoy.\n",
      "review_4: This is a Japanese, Sushi Bars restaurant. If you're looking for top notch sushi at very reasonable prices, this is the place. Some of the best sushi I've had since Japan. There's nothing fancy about Vic. Here it is all about quality sushi. Vic seats less then 10 people. But here you'll find some items found at very expensive Japanese restaurants. And always ask if they have anything special like Toro.\n",
      "review_5: This is an Event Planning & Services, Bars, Pubs, Nightlife, Soup, Breakfast & Brunch, Venues & Event Spaces, Irish, Southern, Irish Pub, Arts & Entertainment, Music Venues restaurant. An excellent Irish bar with very good bar food and often excellent main dishes. There is plenty of great beer to choose from. Ask Fergie for his recommendation. He's there much of the time. \n",
      "The more you go here the you like going here. Fergie's is one of the local hang outs for people who live in center city. Most of the locals stay away on weekends when there are a lot of tourists. \n",
      "The staff is efficient but can be a bit abrupt... especially when it's busy.\n",
      "A word to the wise... the upstairs is quieter.\n"
     ]
    }
   ],
   "source": [
    "print(user_data['user_concatenated_reviews_with_business_categories'].iloc[0])"
   ]
  },
  {
   "cell_type": "code",
   "execution_count": 18,
   "id": "28a2185b",
   "metadata": {},
   "outputs": [
    {
     "name": "stdout",
     "output_type": "stream",
     "text": [
      "This is a Cocktail Bars, Food Delivery Services, Nightlife, Breakfast & Brunch, Food, Bars, Event Planning & Services, Caterers, Indian restaurant.\n",
      "review_1: Dined here with some girlfriends during restaurant week. The service was excellent, our waiter was patient and thorough when explaining the menu and answering our questions.\n",
      "\n",
      "I was surprised by the amount of food we received.  It was much more than I anticipated and I would definitely return to this restaurant. I ordered the lamb stew and the lamb was a bit overcooked but overall I enjoyed the meal.\n",
      "review_2: Beautiful little restaurant. Perfect place for a date or to catch up with a friend. \n",
      "\n",
      "Tuesday's at 7 and brunch on Sunday have live music! \n",
      "\n",
      "Run a great happy hour deal from 5-7 or 9-close at the bar with 4 dollar beers and 5 dollar wines.\n",
      "review_3: Great for happy hour, so-so for brunch. \n",
      "\n",
      "5/5 for Happy hour:  They have wonderful drink specials and great deals on small plates. The chikni shandar (chai sangria) is my go to drink here, and the naan pizza never disappoints. I'm also a huge fan of their stuffed long hot peppers, but they tend to run a little spicy for people who aren't used to burning their taste buds on a daily basis. Also, Indeblue is never too crowded during happy hour, and I've always been able to grab a seat even if I'm with a group of friends.\n",
      "\n",
      "3/5 for Brunch: The paneer bhurjee is my favorite brunch item here, not only because it's delicious and cheesy, but also because it's one of the few brunch items at indeblue that are actually filling. The \"build your own\" omelette was the smallest omelette I've ever seen, as well as the French toast portion. Everything here tastes great, it's just that some portions are a bit lacking. Also, their brunch starts a little late -- 11am, so if you're and early riser looking to beat the brunch crowd, this is not the place to be.\n",
      "\n",
      "Overall-- indeblue is one of my favorite happy hour places in center city, but I'm not too excited about their brunch.\n",
      "review_4: Very polite professional staff. The food was absolutely delicious. The decor and set up is beautiful!\n",
      "review_5: Came here for late night happy hour from 9-closing (website states 8:30 but that is wrong). Happy hour is only at the bar and there are 10 seats. When I got there at 8:45 they let me in and there was about 4 other people there. All the happy hour food was great. The naan pizza I'll pass and the stuff peppers were amazing. Not too spicy as I thought it would be. I would love to come here again and try the other happy hour items that I didn't try before. The happy hour drinks looks good too. The service was good, only thing I would like was if it wasn't so dark as it was hard to see the menu.\n",
      "review_6: Philly is no stranger to modern twists on Indian cuisine. Though Tashan is less one Chef Sylva Senat, it is still one of the prime destinations for delicious and beautifully presented Indian dishes. With IndeBlue making its way from Collingswood NJ, Center City Philly got a lot spicier. And with the exit of Bindi from Chef Marcie Turney's deck of restaurants a few years back, Chef Rakesh Ramola is certainly putting his Indian stamp on 13th Street.\n",
      "\n",
      "The space is beautiful as well - wide open with plenty of room and ornamental designs throughout. A bar stands at the front of the restaurant - a great spot for Happy Hour and Center City Sips.\n",
      "\n",
      "Crispy Spinach Chaat [$8]\n",
      "Crispy baby spinach, shallots, chopped tomatoes, sweet yogurt, tamarind date chutney \n",
      "\n",
      "The GF and I stopped by for lunch and the first thing we noticed on the menu was the crispy spinach chaat. And before we could even order it, the kitchen had already sent it out for us to try. This was a dish we had at Tashan and it exceeded our expectations. The baby spinach was lightly coated in a fresh chickpea batter and flash-fried in soybean oil. This allowed for a vegetal crisp amidst the bite of onion, chopped tomatoes, and shallots. The sweet yogurt and tamarind date chutney dressed the chaat well and provided a sweetness that brought a smile to our faces. A must order.\n",
      "\n",
      "Mangalorean Crispy Vegetable [$8]\n",
      "Seasonal vegetables, mustard seed, tomato, curry leaf, red chili\n",
      "\n",
      "These vegetables were coated with a thicker chickpea batter, yet it was still incredibly crisp and light. Fresh veggies included cauliflower, peppers, and eggplant, with the mustard seed and red chili providing a bit of heat, and the tomato providing the acid. I typically abhor raw onions, but the red onions really worked here to break up the heft of each bite. \n",
      "\n",
      "Drums of Heaven [$8]\n",
      "Battered chicken wings, blue cheese crumble, garlic, tomato, chili, scallions\n",
      "\n",
      "As soon as I saw pictures on Yelp (5 stars by the way), I knew I had to order this dish. Sure, it's not a traditional Indian dish. But really - how many restaurants french their drumsticks?\n",
      "\n",
      "This chicken was nicely crispy, but was dressed well with notes of garlic, tomato and chili. The chicken itself was incredibly juicy and was marinated with what I believe was a yellow curry. The blue cheese certainly isn't typical, but hey - it's almost to be expected. If you like wings, definitely check these out.\n",
      "\n",
      "Chutney\n",
      "Mint, tamarind-date, green chile \n",
      "\n",
      "With our mains, the kitchen also sent out a sampler of chutneys for us to try (I believe they're typically $3 each). From top to bottom, we received mint (light and refreshing), tamarind-date (sweet depth of flavor), and green chile (be prepared to sweat!). \n",
      "\n",
      "Chicken Tikka Makhani \"Butter Chicken\" [$12]\n",
      "Boneless free-range chicken, fresh tomato, cream, honey, fenugreek, black pepper, saffron rice\n",
      "\n",
      "We make butter chicken at least once a month in our home, despite the GF and I not being Indian. But why should that matter - it's crazy good - 'nuff said. IndeBlue's iteration? Blows ours out the water. The boneless chicken was moist, but really, it's all about the sauce. The tomato provided nice acidity against the cream and butter. Perfect to engulf the sweet saffron rice. If you're thinking that Indian food is all about curry and you need an easy entry into this cuisine, please try this.\n",
      "\n",
      "Non-Vegetarian Thali [$16]\n",
      "Two tasting entrees, dai makhani, appetizer, mango chutney, rice, naan, raita  \n",
      "\n",
      "When I saw the thali options, I knew I had to order the non-vegetarian version. Thali is an Indian and Nepalese meal made up of various dishes - Indian tapas if you will. Counterclockwise from the right, I received mustard chicken (moist and bright), lamb (hearty like short rib and one of the best bites of the meal), and lentil daal (spicy and filling). A mango chutney and creamy raita provided the sweet and cooling elements to respectively balance the rest of the bites. Well-seasoned fried potatoes, more saffron rice, and naan bread were on offer as well. And for $16? This is easily a steal and a great way to try different bites from the kitchen.\n",
      "\n",
      "If you live in Center City Philly, consider yourself lucky. There's a wide variety of cuisines available, especially in the Midtown Village area. With IndeBlue, approachable and modern twists based on authentic Indian techniques and flavors are on display. Service was top-notch - Sean was friendly, informed, and our plates were cleared for each course. If I'm craving Indian, I know where I'll be going. Unless IndeBlue starts delivering ...\n",
      "review_7: Came to here to celebrate my brother's birthday. Went during Happy Hour. Had a few drinks at the bar and afterwards we sat at a table for dinner. From the bar to dinner. Food and service was exceptional. Drinks and food was so good. Our waiter was kind and friendly. Dessert was the bomb. Thanks for the wonderful time Indeblue!\n",
      "review_8: Very fancy and upscale Indian restaurant with a bar.  We ordered chicken tika masala, lamb tika masala, and lamb chops. In addition we had garlic naan. For drinks we just had the Jamison neat.  The restaurant is really nice and they have good service.  The food was pretty good but not the best Indian food I ever had.  This would be a great place to go on a date and I would def come back again.\n",
      "review_9: The place is fancier than your usual indian place. Service was great and the ambiance is quite nice. Entrees aren't cheap but they are also well made (given my limited knowledge of indian cuisine). A place for a classier indian dinner. Had the lamb rogan josh which was good.\n",
      "review_10: This place has amazing Indian food!  Coming for the Bay, we all know what good Indian food is.  It only took us over 2 years to find an authentic Indian place here in Philly. The food and service was excellent!  You know it's a good sign when you walk in and you see plenty of Indian people in there!  At least, that's what I say about my Chinese food.  \n",
      "\n",
      "You must order the spinach chaat.  Just do it.  Love that they have side portions of entree dishes and half the price rather than never finishing an entire bowl. \n",
      "\n",
      "Must do before you go: Sign up for their email list.  Get $10 to use within one week. You'll also get a buy one get one free entree for your birthday, expires 2 weeks later.  \n",
      "\n",
      "Happy Hour looks fantastic as well!  Drinks at $4 and food at $3-6?  Must!!\n",
      "review_11: Among Indian food fans in the Philly area, there has been competition between IndeBlue's 2 restaurants and another chef who also has a restaurant in Philly and Jersey. Overall, I fall into the camp of IndeBlue's competitor, but I think IndeBlue does a few things very well - \n",
      "\n",
      "IndeBlue pushes the boundaries on the menu in going for Indian fusion and incorporating less traditional flavors, especially in their appetizers. You get really interesting and flavorful dishes that are great for someone looking for less traditional Indian food. The same applies to desserts, where IndeBlue has a couple inventive and really tasty options. I love the spinach chaat, liked tandoori wings, but didn't love the shrimp roti tacos. \n",
      "\n",
      "Unfortunately, there's a big mismatch with the entrees. Their main course menu is what you expect from most Indian restaurants - some of the classic North indian dishes, with many popular South Indian dishes as well. By comparison to the appetizers that you've just had, the more \"traditional\" dishes fall flat, but on their own, they also don't compare well to other upscale Indian restaurants. If you are someone who always orders the tikka masala / makhani, then I think it's not the best restaurant for you. The price is what it is, but I wouldn't call it great value for an upscale Indian spot.\n",
      "review_12: Had a really excellent brunch here on Sunday with Vinny P. and Cat D. after a morning of shopping. Our stomachs were rumbly, El Vez was packed and we were about to make our way to Perch Pub when Vinny stopped in his tracks and said, \"hey, how does Indian sound?\". Now traditionally, Indian would not be my first go-to for brunch cuisine, but given that I'm typically a savory bruncher over sweet figured why the heck not. First off, there was no wait and we were seated immediately upon entry. We could have sat at the empty bar had the restaurant been full, but that wasn't a necessity so to a table we went. Our server was very enthusiastic, as waters were being poured she sold us on their $4 garam masala bloody Mary's and rose mimosas; off to a good start if you ask me. \n",
      "\n",
      "Though bloody Mary's are a meal in and of themselves, it was time to buckle down and decide what to have for an entrée. Right up until our waitress came back to take our order, I was still undecided and had her choose for me; I was torn between an Indian spiced egg and bacon wrap and the chicken tikka wrap that had recently been added to the menu. Chicken tikka was the final determination, while Vinny ordered a thali plate and Cassie went with a few vegan options of chickpeas and potatoes. My chicken tikka wrap was pretty damn good, the chicken was tender, the crisp cucumbers in side were a nice cooling feel against the spice of the chicken...would I order it again? Absolutely. Served on the side were a few masala fries and a sweet chili aioli; delicious. \n",
      "\n",
      "When I first moved to the city 6 years ago my first question to my landlord was how to know which Chinese food restaurants were worth eating from in Chinatown; he told myself and my roommates to always follow where the Chinese dine because that's the real-deal. When it comes to Indeblue, the fact that the space is beautiful, the prices are completely reasonable for brunch, and many Indian families spending their Sunday afternoon here all lean toward this being the real-deal and a new staple in the brunch rotation.\n",
      "review_13: I'm going to offer a disclaimer on my two stars in that this is a review after a Caviar delivery. So it's absent the atmosphere of the restaurant, plus the food isn't served on nice plates, etc... nor is it straight out of the kitchen.\n",
      "\n",
      "But that disclaimer aside, the food is still the food, and one would assume the most important part of the experience of a restaurant. (I think folks in Philly don't have a ton of great options for Indian food, and the bar is simply lower.)\n",
      "\n",
      "Suffice it to say we were thoroughly disappointed last week. We ordered quite a bit of food, assuming leftovers and wanting to try a lot of different things based on how good the reviews are like here. \n",
      "\n",
      "-The bread was oily and tasted flat\n",
      "-The chicken wings were way over fried and breaded\n",
      "-The chicken pieces in the chicken madras were dry and thin\n",
      "-The \"tandoori mixed grill\" really should be listed in quotes, because it's not a tandoori mixed grill. One way to know is that all of the meat was dripping in some kind of sauce or juice.\n",
      "-The raita was ok, at least\n",
      "-They forgot one of our items, but I guess it's just as well...\n",
      "\n",
      "The pictures on the website look amazing. But this was a real bait and switch. We definitely won't be visiting the restaurant any time soon...\n",
      "review_14: Inventive Indian-fusion restaurant. Brunch is great here, definitely try the spicy chicken and waffles. Bottomless mimosas too! Oh yea the Indian food is pretty solid too.\n",
      "review_15: Came here on a Wednesday for happy hour with a friend and found a seat at the bar right away! The HH deal is a steal - everything is between $3-$5 (both food and drinks!), and their cocktails are some of the best I've had! I loved the chickni shandar, which tastes like a bubbly iced mulled wine, and my friend enjoyed her ginger twist. As per the suggestion of my fellow yelpers, we ordered the spinach chaat. It was definitely unique in the texture and flavor, but once it sat for a bit all I could taste was the oil it was deep fried in -- likely wouldn't order again. The naan pizza was probably my favorite dish, as well as the most bang for your buck.\n",
      "review_16: I came to this restaurant twice now. I have had the lamb chops, omelette with spinach, spicy cauliflower, chicken skewer and the buttered Naan. I would have to say that the lamb chops are average and were overcooked both times that I ordered them. The omelette was amazing. I'm not sure how they cook it, but it was probably one of the best I've ever had. The spicy cauliflower is a very large portion and also very good. The chicken skewer was spicy and had a great sauce underneath it which complimented it very well. The Naan is very good, but I don't think I've ever had bad Naan. I only wish they had more of a selection of Naan, maybe stuffed with chicken and garlic or something. The Ambiance is great, comfortable. They have a 3 piece band playing relaxing Hindu style music. The service here is ok and parking is not easy. Overall, I recommend.\n",
      "review_17: I have a tiny bit of a love affair with Indeblue - normally Indian restaurants are just too heavy and artificial tasting for me, and can never replicate my mom's cooking. However, I love IndeBlue for trying to present great quality Indian food that doesn't claim to be traditional - but also brings those traditional homey, flavors to the table as well. There's something so satisfying about being able to eat something as nostalgic as Chana masala, and yet evoke the same sense of nostalgia with a paneer scramble on toast. The staff is always so kind and makes the experience even more inviting, and I love coming back here with friends, especially during restaurant week!\n",
      "review_18: This Modern Indian place is worth checking out. Even if you don't think you like Indian food, you need to try it. We've been a couple times since they opened and the food and service were great each time. Dishes are creative, flavorful and show that Indian can be appeal to everyone. We'll be back!\n"
     ]
    }
   ],
   "source": [
    "print(business_data['business_concatenated_reviews_with_business_categories'].iloc[0])"
   ]
  },
  {
   "cell_type": "code",
   "execution_count": 19,
   "id": "6773e5c6",
   "metadata": {},
   "outputs": [],
   "source": [
    "user_data.to_csv(\"user_concatenated_reviews_with_business_categories.csv\", index=False)\n",
    "business_data.to_csv(\"business_concatenated_reviews_with_business_categories.csv\", index=False)"
   ]
  }
 ],
 "metadata": {
  "kernelspec": {
   "display_name": "Python 3 (ipykernel)",
   "language": "python",
   "name": "python3"
  },
  "language_info": {
   "codemirror_mode": {
    "name": "ipython",
    "version": 3
   },
   "file_extension": ".py",
   "mimetype": "text/x-python",
   "name": "python",
   "nbconvert_exporter": "python",
   "pygments_lexer": "ipython3",
   "version": "3.9.13"
  }
 },
 "nbformat": 4,
 "nbformat_minor": 5
}
