{
 "cells": [
  {
   "cell_type": "code",
   "execution_count": 7,
   "id": "d1d7bc47",
   "metadata": {},
   "outputs": [],
   "source": [
    "from pathlib import Path\n",
    "import nbformat\n",
    "\n",
    "def load_notebook(notebook_path):\n",
    "    with open(notebook_path, 'r', encoding='utf-8') as f:\n",
    "        nb = nbformat.read(f, as_version=4)\n",
    "    code_cells = [cell.source for cell in nb.cells if cell.cell_type == 'code']\n",
    "    exec('\\n'.join(code_cells), globals())\n",
    "\n",
    "# import written function and variable\n",
    "\n",
    "parent_directory = Path('../../../../')\n",
    "data_preprocessing_utils_path = parent_directory / 'data_preprocessing_utils.ipynb'\n",
    "experiment_related_utils_path = parent_directory / 'experiment_related_utils.ipynb'\n",
    "load_notebook(data_preprocessing_utils_path)\n",
    "load_notebook(experiment_related_utils_path)"
   ]
  },
  {
   "cell_type": "code",
   "execution_count": 3,
   "id": "6fce7755",
   "metadata": {},
   "outputs": [
    {
     "name": "stdout",
     "output_type": "stream",
     "text": [
      "(11196, 48)\n",
      "(1400, 48)\n",
      "(1400, 48)\n"
     ]
    }
   ],
   "source": [
    "import os\n",
    "import pandas as pd\n",
    "import numpy as np\n",
    "\n",
    "folder_name = '../../../original/text_format4/BERT_base_sentence_embedding/'\n",
    "\n",
    "files = os.listdir(folder_name)\n",
    "train_df = pd.read_csv(os.path.join(folder_name,[file for file in files if 'train' in file and 'set' in file][0]))\n",
    "print(train_df.shape)\n",
    "valid_df = pd.read_csv(os.path.join(folder_name,[file for file in files if 'valid' in file and 'set' in file][0]))\n",
    "print(valid_df.shape)\n",
    "test_df = pd.read_csv(os.path.join(folder_name,[file for file in files if 'test' in file and 'set' in file][0]))\n",
    "print(test_df.shape)"
   ]
  },
  {
   "cell_type": "code",
   "execution_count": 4,
   "id": "8252decb",
   "metadata": {},
   "outputs": [
    {
     "name": "stdout",
     "output_type": "stream",
     "text": [
      "User reviews num distribution:\n",
      "\n",
      "min: 1\n",
      "max: 13\n",
      "mean: 5.6301211771494515\n",
      "std: 2.1744341079634166\n",
      "mode: 5.0\n",
      "percentiles:\n",
      "    5th: 3.0\n",
      "    10th: 3.0\n",
      "    15th: 4.0\n",
      "    20th: 4.0\n",
      "    25th: 4.0\n",
      "    30th: 4.0\n",
      "    35th: 5.0\n",
      "    40th: 5.0\n",
      "    45th: 5.0\n",
      "    50th: 5.0\n",
      "    55th: 5.0\n",
      "    60th: 6.0\n",
      "    65th: 6.0\n",
      "    70th: 6.0\n",
      "    75th: 7.0\n",
      "    80th: 7.0\n",
      "    85th: 8.0\n",
      "    90th: 9.0\n",
      "    95th: 10.0\n",
      "    100th: 13.0\n",
      "\n",
      "\n",
      "Business reviews num distribution:\n",
      "\n",
      "min: 1\n",
      "max: 15\n",
      "mean: 6.371983914209116\n",
      "std: 2.7195239056128435\n",
      "mode: 5.0\n",
      "percentiles:\n",
      "    5th: 3.0\n",
      "    10th: 4.0\n",
      "    15th: 4.0\n",
      "    20th: 4.0\n",
      "    25th: 4.0\n",
      "    30th: 5.0\n",
      "    35th: 5.0\n",
      "    40th: 5.0\n",
      "    45th: 5.0\n",
      "    50th: 6.0\n",
      "    55th: 6.0\n",
      "    60th: 6.0\n",
      "    65th: 7.0\n",
      "    70th: 7.0\n",
      "    75th: 8.0\n",
      "    80th: 9.0\n",
      "    85th: 9.0\n",
      "    90th: 10.0\n",
      "    95th: 12.0\n",
      "    100th: 15.0\n"
     ]
    }
   ],
   "source": [
    "user_df, business_df = calcuate_reviews_num(train_df)\n",
    "user_distribution = calculate_distribution(user_df[\"reviews_num\"])\n",
    "business_distribution = calculate_distribution(business_df[\"reviews_num\"])\n",
    "print(\"User reviews num distribution:\\n\")\n",
    "print_nested_dict(user_distribution)\n",
    "print('\\n')\n",
    "print(\"Business reviews num distribution:\\n\")\n",
    "print_nested_dict(business_distribution)"
   ]
  },
  {
   "cell_type": "code",
   "execution_count": 8,
   "id": "fdbeb3c1",
   "metadata": {},
   "outputs": [
    {
     "name": "stdout",
     "output_type": "stream",
     "text": [
      "Percent: 100 %\n",
      "User threshold reviews num: 7\n",
      "User reviews num comparison method: max\n",
      "User threshold reviews num range: None\n",
      "Business threshold reviews num: 9\n",
      "Business reviews num comparison method: max\n",
      "Business threshold reviews num range: None\n",
      "Generative AI model: GPT-3.5 Turbo\n",
      "Sampling_method: random\n",
      "Column: None\n",
      "\n",
      "\n",
      "-----------------------------------------------------------\n",
      "\n",
      "\n",
      "User reviews: 7 max or None\n",
      "Business reviews: 9 max or None\n",
      "Training data num:\n",
      "Before: 11196 After: 4351 \n",
      "\n",
      "Training data user count:\n",
      "Before: 1808 After: 1395 \n",
      "\n",
      "Training data business count:\n",
      "Before: 1573 After: 1249 \n",
      "\n",
      "Validation (Test) data num:\n",
      "Before: 1400 After: 626 \n",
      "\n",
      "Validation (Test) data user count:\n",
      "Before: 944 After: 514 \n",
      "\n",
      "Validation (Test) data business count:\n",
      "Before: 918 After: 507\n",
      "Train_data_num_before: 11196\n",
      "Train_data_num_after: 4351\n",
      "Train_data_user_count_before: 1808\n",
      "Train_data_user_count_after: 1395\n",
      "Train_data_business_count_before: 1573\n",
      "Train_data_business_count_after: 1249\n",
      "Test_data_num_before: 1400\n",
      "Test_data_num_after: 626\n",
      "Test_data_user_count_before: 944\n",
      "Test_data_user_count_after: 514\n",
      "Test_data_business_count_before: 918\n",
      "Test_data_business_count_after: 507\n"
     ]
    },
    {
     "name": "stderr",
     "output_type": "stream",
     "text": [
      "<string>:468: SettingWithCopyWarning: \n",
      "A value is trying to be set on a copy of a slice from a DataFrame.\n",
      "Try using .loc[row_indexer,col_indexer] = value instead\n",
      "\n",
      "See the caveats in the documentation: https://pandas.pydata.org/pandas-docs/stable/user_guide/indexing.html#returning-a-view-versus-a-copy\n"
     ]
    }
   ],
   "source": [
    "train_data, valid_data, cal_results = return_filtered_train_test_data(train_df, valid_df, user_reviews_num=7,user_comparison=\"max\", \n",
    "                                    user_reviews_num_range=None, business_reviews_num=9,\n",
    "                                    business_comparison=\"max\", business_reviews_num_range=None)\n",
    "print_nested_dict(cal_results)"
   ]
  },
  {
   "cell_type": "code",
   "execution_count": 9,
   "id": "f6607e3c",
   "metadata": {},
   "outputs": [
    {
     "name": "stdout",
     "output_type": "stream",
     "text": [
      "Percent: 100 %\n",
      "User threshold reviews num: 7\n",
      "User reviews num comparison method: max\n",
      "User threshold reviews num range: None\n",
      "Business threshold reviews num: 9\n",
      "Business reviews num comparison method: max\n",
      "Business threshold reviews num range: None\n",
      "Generative AI model: GPT-3.5 Turbo\n",
      "Sampling_method: random\n",
      "Column: None\n",
      "\n",
      "\n",
      "-----------------------------------------------------------\n",
      "\n",
      "\n",
      "User reviews: 7 max or None\n",
      "Business reviews: 9 max or None\n",
      "Training data num:\n",
      "Before: 11196 After: 4351 \n",
      "\n",
      "Training data user count:\n",
      "Before: 1808 After: 1395 \n",
      "\n",
      "Training data business count:\n",
      "Before: 1573 After: 1249 \n",
      "\n",
      "Validation (Test) data num:\n",
      "Before: 1400 After: 621 \n",
      "\n",
      "Validation (Test) data user count:\n",
      "Before: 958 After: 510 \n",
      "\n",
      "Validation (Test) data business count:\n",
      "Before: 872 After: 484\n",
      "Train_data_num_before: 11196\n",
      "Train_data_num_after: 4351\n",
      "Train_data_user_count_before: 1808\n",
      "Train_data_user_count_after: 1395\n",
      "Train_data_business_count_before: 1573\n",
      "Train_data_business_count_after: 1249\n",
      "Test_data_num_before: 1400\n",
      "Test_data_num_after: 621\n",
      "Test_data_user_count_before: 958\n",
      "Test_data_user_count_after: 510\n",
      "Test_data_business_count_before: 872\n",
      "Test_data_business_count_after: 484\n"
     ]
    },
    {
     "name": "stderr",
     "output_type": "stream",
     "text": [
      "<string>:468: SettingWithCopyWarning: \n",
      "A value is trying to be set on a copy of a slice from a DataFrame.\n",
      "Try using .loc[row_indexer,col_indexer] = value instead\n",
      "\n",
      "See the caveats in the documentation: https://pandas.pydata.org/pandas-docs/stable/user_guide/indexing.html#returning-a-view-versus-a-copy\n"
     ]
    }
   ],
   "source": [
    "train_data, test_data, cal_results = return_filtered_train_test_data(train_df, test_df, user_reviews_num=7,user_comparison=\"max\", \n",
    "                                    user_reviews_num_range=None, business_reviews_num=9,\n",
    "                                    business_comparison=\"max\", business_reviews_num_range=None)\n",
    "print_nested_dict(cal_results)"
   ]
  },
  {
   "cell_type": "code",
   "execution_count": 10,
   "id": "0ac946d7",
   "metadata": {},
   "outputs": [],
   "source": [
    "train_data.to_csv(\"research_training_set.csv\", index=False)\n",
    "valid_data.to_csv(\"research_validation_set.csv\", index=False)\n",
    "test_data.to_csv(\"research_test_set.csv\", index=False)"
   ]
  }
 ],
 "metadata": {
  "kernelspec": {
   "display_name": "Python 3 (ipykernel)",
   "language": "python",
   "name": "python3"
  },
  "language_info": {
   "codemirror_mode": {
    "name": "ipython",
    "version": 3
   },
   "file_extension": ".py",
   "mimetype": "text/x-python",
   "name": "python",
   "nbconvert_exporter": "python",
   "pygments_lexer": "ipython3",
   "version": "3.9.13"
  }
 },
 "nbformat": 4,
 "nbformat_minor": 5
}
