{
 "cells": [
  {
   "cell_type": "code",
   "execution_count": null,
   "id": "d8240a27",
   "metadata": {},
   "outputs": [],
   "source": [
    "# import written function and variable\n",
    "\n",
    "from pathlib import Path\n",
    "import nbformat\n",
    "\n",
    "def load_notebook(notebook_path):\n",
    "    with open(notebook_path, 'r', encoding='utf-8') as f:\n",
    "        nb = nbformat.read(f, as_version=4)\n",
    "    code_cells = [cell.source for cell in nb.cells if cell.cell_type == 'code']\n",
    "    exec('\\n'.join(code_cells), globals())\n",
    "\n",
    "parent_directory = Path('../')\n",
    "data_utils_path = parent_directory / 'data_utils.ipynb'\n",
    "precessing_utils_path = parent_directory / 'precessing_utils.ipynb'\n",
    "\n",
    "load_notebook(data_utils_path)\n",
    "load_notebook(precessing_utils_path)"
   ]
  }
 ],
 "metadata": {
  "kernelspec": {
   "display_name": "Python 3 (ipykernel)",
   "language": "python",
   "name": "python3"
  },
  "language_info": {
   "codemirror_mode": {
    "name": "ipython",
    "version": 3
   },
   "file_extension": ".py",
   "mimetype": "text/x-python",
   "name": "python",
   "nbconvert_exporter": "python",
   "pygments_lexer": "ipython3",
   "version": "3.9.13"
  }
 },
 "nbformat": 4,
 "nbformat_minor": 5
}
