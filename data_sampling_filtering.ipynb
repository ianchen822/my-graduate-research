{
 "cells": [
  {
   "cell_type": "markdown",
   "id": "47dda933",
   "metadata": {},
   "source": [
    "# Import dataset"
   ]
  },
  {
   "cell_type": "code",
   "execution_count": 4,
   "id": "cc5e7ced",
   "metadata": {},
   "outputs": [],
   "source": [
    "# yelp datasets file\n",
    "yelp_datasets_path = './yelp_datasets/'\n",
    "\n",
    "# yelp dataset (from yelp offical website)\n",
    "yelp_offical_dataset_path = yelp_datasets_path + 'yelp_dataset_official/'\n",
    "\n",
    "# business, user and review dataset\n",
    "yelp_academic_dataset_business_path = yelp_offical_dataset_path + 'yelp_academic_dataset_business.json'\n",
    "yelp_academic_dataset_user_path = yelp_offical_dataset_path + 'yelp_academic_dataset_user.json'\n",
    "yelp_academic_dataset_review_path = yelp_offical_dataset_path + 'yelp_academic_dataset_review.json'\n",
    "\n",
    "# yelp photo dataset (from yelp official website)\n",
    "yelp_offical_photo_dataset_path = yelp_datasets_path + 'yelp_dataset_official_photos/'\n",
    "\n",
    "# photo dataset\n",
    "photo_dataset_path = yelp_offical_photo_dataset_path + 'photos/'"
   ]
  },
  {
   "cell_type": "markdown",
   "id": "5e0f2f66",
   "metadata": {},
   "source": [
    "# Load written code"
   ]
  },
  {
   "cell_type": "code",
   "execution_count": 73,
   "id": "597f46d0",
   "metadata": {},
   "outputs": [],
   "source": [
    "from pathlib import Path\n",
    "import nbformat\n",
    "\n",
    "def load_notebook(notebook_path):\n",
    "    with open(notebook_path, 'r', encoding='utf-8') as f:\n",
    "        nb = nbformat.read(f, as_version=4)\n",
    "    code_cells = [cell.source for cell in nb.cells if cell.cell_type == 'code']\n",
    "    exec('\\n'.join(code_cells), globals())\n",
    "\n",
    "# import written function and variable\n",
    "\n",
    "parent_directory = Path('./')\n",
    "data_preprocessing_utils_path = parent_directory / 'data_preprocessing_utils.ipynb'\n",
    "load_notebook(data_preprocessing_utils_path)"
   ]
  },
  {
   "cell_type": "markdown",
   "id": "eaff850f",
   "metadata": {},
   "source": [
    "# Check attributs column to filter Restaurants rather than other business"
   ]
  },
  {
   "cell_type": "code",
   "execution_count": null,
   "id": "7bb9ab1e",
   "metadata": {},
   "outputs": [],
   "source": [
    "# restaurants = check_attributes_and_filter_out_restaurants(yelp_academic_dataset_business_path, business_type='restaurant')\n",
    "# restaurants"
   ]
  },
  {
   "cell_type": "code",
   "execution_count": null,
   "id": "7f20c03c",
   "metadata": {},
   "outputs": [],
   "source": [
    "# restaurants.to_csv(\"restaurants_businesses.csv\", index=False)"
   ]
  },
  {
   "cell_type": "code",
   "execution_count": null,
   "id": "af9abe86",
   "metadata": {},
   "outputs": [],
   "source": [
    "# import pandas as pd\n",
    "\n",
    "# restaurants = pd.read_csv(\"restaurants_businesses.csv\")\n",
    "# filtered_restaurants_reviews = filter_reviews_for_certain_business_type(yelp_academic_dataset_review_path, restaurants)\n",
    "# filtered_restaurants_reviews"
   ]
  },
  {
   "cell_type": "code",
   "execution_count": null,
   "id": "4ca5ad8d",
   "metadata": {},
   "outputs": [],
   "source": [
    "# # shuffle the whole restaurant review data\n",
    "# filtered_restaurants_reviews_shuffled = filtered_restaurants_reviews.sample(frac=1, random_state=42).reset_index(drop=True)\n",
    "# filtered_restaurants_reviews_shuffled"
   ]
  },
  {
   "cell_type": "code",
   "execution_count": null,
   "id": "c24df069",
   "metadata": {},
   "outputs": [],
   "source": [
    "# filtered_restaurants_reviews_shuffled.to_csv(\"restaurants_reviews_shuffled.csv\", index=False)"
   ]
  },
  {
   "cell_type": "markdown",
   "id": "9a1c2ab2",
   "metadata": {},
   "source": [
    "# Sample reviews, calculate price, then save data"
   ]
  },
  {
   "cell_type": "code",
   "execution_count": 5,
   "id": "ed3824c9",
   "metadata": {},
   "outputs": [
    {
     "name": "stdout",
     "output_type": "stream",
     "text": [
      "Combination count: 18000\n"
     ]
    }
   ],
   "source": [
    "import itertools\n",
    "\n",
    "# Define all possible values\n",
    "percent_list = [i for i in range(1, 21)]\n",
    "user_reviews_num_threshold_list = [i for i in range(1, 11)]\n",
    "user_comparison_method_list = [\"equal\", \"min\", \"max\"]\n",
    "business_reviews_num_threshold_list = [i for i in range(1, 11)]\n",
    "business_comparison_method_list = [\"equal\", \"min\", \"max\"]\n",
    "genai_list = [\"GPT-3.5 Turbo\"]\n",
    "sampling_method_list = ['random']\n",
    "column_list = [\"None\"]\n",
    "\n",
    "# Generate all possible permutations\n",
    "combinations = list(itertools.product(percent_list, user_reviews_num_threshold_list, \n",
    "                                      user_comparison_method_list, business_reviews_num_threshold_list,\n",
    "                                      business_comparison_method_list, genai_list, sampling_method_list,\n",
    "                                      column_list))\n",
    "print(\"Combination count:\", len(combinations))"
   ]
  },
  {
   "cell_type": "code",
   "execution_count": 62,
   "id": "4eed1abd",
   "metadata": {},
   "outputs": [],
   "source": [
    "filtered_restaurants_reviews_shuffled = pd.read_csv(\"restaurants_reviews_shuffled.csv\")"
   ]
  },
  {
   "cell_type": "code",
   "execution_count": 72,
   "id": "4f755384",
   "metadata": {},
   "outputs": [
    {
     "name": "stdout",
     "output_type": "stream",
     "text": [
      "Percent: 80 %\n",
      "User threshold reviews num: 3\n",
      "User reviews num comparison method: max\n",
      "User threshold reviews num range: [2, 6]\n",
      "Business threshold reviews num: 5\n",
      "Business reviews num comparison method: max\n",
      "Business threshold reviews num range: None\n",
      "Generative AI model: GPT-3.5 Turbo\n",
      "Sampling_method: random\n",
      "Column: stars\n",
      "\n",
      "\n",
      "-----------------------------------------------------------\n",
      "\n",
      "\n"
     ]
    },
    {
     "data": {
      "text/plain": [
       "{'percent': 80,\n",
       " 'user_reviews_num_threshold': 3,\n",
       " 'user_comparison_method': 'max',\n",
       " 'user_reviews_num_range': [2, 6],\n",
       " 'business_reviews_num_threshold': 5,\n",
       " 'business_comparison_method': 'max',\n",
       " 'business_reviews_num_range': None,\n",
       " 'sampling_method': 'random',\n",
       " 'column': 'stars',\n",
       " 'sampled_percent_reviews_num': 2253535,\n",
       " 'filtered_reviews_num': 392,\n",
       " 'filtered_users_count': 190,\n",
       " 'filtered_businesses_count': 323,\n",
       " 'min_reviews_per_user': 2,\n",
       " 'mean_reviews_per_user': 2.0631578947368423,\n",
       " 'max_reviews_per_user': 4,\n",
       " 'min_reviews_per_business': 1,\n",
       " 'mean_reviews_per_business': 1.2136222910216719,\n",
       " 'max_reviews_per_business': 4,\n",
       " 'genai': 'GPT-3.5 Turbo',\n",
       " 'model_NT_price_per_token_input': 1.5e-05,\n",
       " 'model_NT_price_per_token_output': 4.5e-05,\n",
       " 'model_NT_price_per_token_input_and_output': 3e-05,\n",
       " 'model_NT_price_per_picture': 0.2295,\n",
       " 'avg_token_count_per_user': 185.38947368421051,\n",
       " 'avg_token_count_per_business': 109.05263157894737,\n",
       " 'price_per_user_by_output': 0.016685052631578948,\n",
       " 'price_per_user_by_input_and_output': 0.011123368421052632,\n",
       " 'price_for_all_user_by_output': 3.17016,\n",
       " 'price_for_all_user_by_input_and_output': 2.11344,\n",
       " 'price_per_business_by_output': 0.009814736842105263,\n",
       " 'price_per_business_by_input_and_output': 0.006543157894736843,\n",
       " 'price_for_all_business_by_output': 3.17016,\n",
       " 'price_for_all_business_by_input_and_output': 2.11344}"
      ]
     },
     "execution_count": 72,
     "metadata": {},
     "output_type": "execute_result"
    }
   ],
   "source": [
    "_, calculation_results = sample_reviews_and_calculate_price_then_return_data(filtered_restaurants_reviews_shuffled, \n",
    "                                                                 percent=80, \n",
    "                                                                 user_reviews_num=3,\n",
    "                                                                 user_comparison=\"max\",\n",
    "                                                                 user_reviews_num_range=[2, 6],\n",
    "                                                                 business_reviews_num=5,\n",
    "                                                                 business_comparison=\"max\",\n",
    "                                                                 business_reviews_num_range=None,\n",
    "                                                                 genai=\"GPT-3.5 Turbo\",\n",
    "                                                                 sampling_method=\"random\",\n",
    "                                                                 column=\"stars\")\n",
    "calculation_results"
   ]
  },
  {
   "cell_type": "code",
   "execution_count": null,
   "id": "5837ac43",
   "metadata": {},
   "outputs": [],
   "source": [
    "# filtered_restaurants_reviews_shuffled = pd.read_csv(\"restaurants_reviews_shuffled.csv\")\n",
    "\n",
    "# all_combination_results = []\n",
    "\n",
    "# # For each combination, call the function\n",
    "# for combo in combinations:\n",
    "#     percent, user_reviews_num, user_comparison, business_reviews_num, \\\n",
    "#     business_comparison, genai, sampling_method, column = combo\n",
    "    \n",
    "    # Call the function\n",
    "#     _, calculation_results = sample_reviews_and_calculate_price_then_return_data(\n",
    "#                                                                 filtered_restaurants_reviews_shuffled, \n",
    "#                                                                 percent=percent, \n",
    "#                                                                 user_reviews_num=user_reviews_num,\n",
    "#                                                                 user_comparison=user_comparison,\n",
    "#                                                                 user_reviews_num_range=None,\n",
    "#                                                                 business_reviews_num=business_reviews_num,\n",
    "#                                                                 business_comparison=business_comparison,\n",
    "#                                                                 business_reviews_num_range=None,\n",
    "#                                                                 genai=genai,\n",
    "#                                                                 sampling_method=sampling_method,\n",
    "#                                                                 column=column)\n",
    "#     all_combination_results.append(calculation_results)"
   ]
  },
  {
   "cell_type": "code",
   "execution_count": null,
   "id": "9ea9452c",
   "metadata": {},
   "outputs": [],
   "source": [
    "# all_combination_results_df = combination_calculation_results_to_df(all_combination_results)\n",
    "# all_combination_results_df"
   ]
  },
  {
   "cell_type": "code",
   "execution_count": null,
   "id": "cbcc4023",
   "metadata": {},
   "outputs": [],
   "source": [
    "# all_combination_results_df.to_csv(\"random_sampling_restaurant_reviews_combination_calculation_results.csv\", index=False)"
   ]
  },
  {
   "cell_type": "code",
   "execution_count": null,
   "id": "01a7e0a8",
   "metadata": {},
   "outputs": [],
   "source": [
    "# import pandas as pd\n",
    "\n",
    "# price_limit = 300\n",
    "# user_reviews_num = 2\n",
    "# user_comparison = \"equal\"\n",
    "# business_reviews_num = 2\n",
    "# business_comparison = \"equal\"\n",
    "# reviews_num = 5000\n",
    "# user_num = 500\n",
    "# business_num = 500\n",
    "\n",
    "# combination_calculation_results_df = pd.read_csv(\"random_sampling_restaurant_reviews_combination_calculation_results.csv\")\n",
    "\n",
    "# filter_combination_calculation_results(combination_calculation_results_df, \n",
    "#                            user_reviews_num = user_reviews_num, \n",
    "#                            user_comparison = user_comparison,\n",
    "#                            business_reviews_num = business_reviews_num, \n",
    "#                            business_comparison = business_comparison,\n",
    "#                            price_limit = price_limit, reviews_num = reviews_num, \n",
    "#                            user_num = user_num, business_num = business_num)"
   ]
  },
  {
   "cell_type": "code",
   "execution_count": null,
   "id": "34911a00",
   "metadata": {},
   "outputs": [],
   "source": [
    "# import os\n",
    "# import pandas as pd\n",
    "\n",
    "# percent = 13\n",
    "# user_reviews_num = 2\n",
    "# user_comparison = \"equal\"\n",
    "# business_reviews_num = 2\n",
    "# business_comparison = \"equal\"\n",
    "# genai = \"GPT-3.5 Turbo\"\n",
    "# sampling_method = 'random'\n",
    "# column = \"stars\"\n",
    "\n",
    "# filtered_restaurants_reviews_shuffled = pd.read_csv(\"restaurants_reviews_shuffled.csv\")\n",
    "# df, calculation_results = sample_reviews_and_calculate_price_then_return_data(filtered_restaurants_reviews_shuffled, percent=percent, reviews_num_threshold=reviews_num_threshold, genai=genai, sampling_method=sampling_method, column=column)                     \n",
    "\n",
    "# df"
   ]
  },
  {
   "cell_type": "code",
   "execution_count": null,
   "id": "ef4ff56a",
   "metadata": {},
   "outputs": [],
   "source": [
    "# # folder name\n",
    "# folder_name = f\"{percent}p_{user_reviews_num}ur_{user_comparison}uc_{business_reviews_num}br_{business_comparison}bc_{genai}_{sampling_method}_{column}_research_data\"\n",
    "\n",
    "# current_directory = os.getcwd()\n",
    "# parent_folder_path = os.path.abspath(os.path.join(current_directory, \"..\"))\n",
    "# new_folder_path = os.path.join(parent_folder_path, folder_name)\n",
    "\n",
    "# if not os.path.exists(new_folder_path):\n",
    "#     os.makedirs(new_folder_path)\n",
    "    \n",
    "# new_subfolder_name = \"original\"\n",
    "# new_subfolder_path = os.path.join(new_folder_path, new_subfolder_name)\n",
    "\n",
    "# if not os.path.exists(new_subfolder_path):\n",
    "#     os.makedirs(new_subfolder_path)\n",
    "\n",
    "# df.to_csv(os.path.join(folder_name, new_subfolder_name, f\"research_original_set_{percent}p_{user_reviews_num}ur_{user_comparison}uc_{business_reviews_num}br_{business_comparison}bc_{genai}_{sampling_method}_{column}.csv\"), index=False)"
   ]
  }
 ],
 "metadata": {
  "kernelspec": {
   "display_name": "Python 3 (ipykernel)",
   "language": "python",
   "name": "python3"
  },
  "language_info": {
   "codemirror_mode": {
    "name": "ipython",
    "version": 3
   },
   "file_extension": ".py",
   "mimetype": "text/x-python",
   "name": "python",
   "nbconvert_exporter": "python",
   "pygments_lexer": "ipython3",
   "version": "3.9.13"
  }
 },
 "nbformat": 4,
 "nbformat_minor": 5
}
