{
 "cells": [
  {
   "cell_type": "code",
   "execution_count": null,
   "id": "be5909d8",
   "metadata": {},
   "outputs": [],
   "source": [
    "# argument user and restaurant reviews and category information\n",
    "# summerize them into user preferences and restaurant features and basic information\n",
    "\n",
    "def genai_argument_method_v1(original_data, client, system_role_content, prompt, genai_model=\"gpt-3.5-turbo\"):\n",
    "    \n",
    "    original_cols = list(original_data.columns)\n",
    "    id_column = [col for col in original_cols if 'id' in col.lower()][0]\n",
    "    text_column = [col for col in original_cols if 'text' in col.lower() or 'review' in col.lower() or 'categor' in col.lower()][0] # user_concatenated_reviews_text ...\n",
    "    new_cols = list(original_data.columns)\n",
    "    new_cols.extend([\"system_role_content\", \"prompt\", f\"{text_column}_argumented_text_result\"])\n",
    "    argumented_results = pd.DataFrame(columns=new_cols)\n",
    "    filtered_original_data = original_data.copy()\n",
    "    \n",
    "    file_path = \"_\".join(original_cols) + \"_with_argumented_results.csv\"\n",
    "    if not os.path.exists(file_path):\n",
    "        empty_df = pd.DataFrame(columns=new_cols)\n",
    "        empty_df.to_csv(file_path, encoding='utf-8', index=False)\n",
    "    else:\n",
    "        results_df = pd.read_csv(file_path)\n",
    "        if len(results_df) == len(original_data):\n",
    "            return \"You already have full argumented results of this original data, please check !\"\n",
    "        else:\n",
    "            original_ids = set(original_data[id_column].values)\n",
    "            results_df_ids = set(results_df[id_column].values)\n",
    "            remain_ids = original_ids - results_df_ids\n",
    "            filtered_original_data = original_data[original_data[id_column].isin(remain_ids)]\n",
    "            filtered_original_data.reset_index(drop=True, inplace=True)\n",
    "    \n",
    "    for i, row in filtered_original_data.iterrows():\n",
    "\n",
    "        entity_id, original_text = list(row)\n",
    "        index = original_data[id_column].index[original_data[id_column] == entity_id].tolist()[0]\n",
    "        content_for_model = prompt + \"\\n\\n\" + original_text\n",
    "        \n",
    "        print(f\"Processing {index+1}th data, with entity id = {entity_id}\")\n",
    "\n",
    "        completion = client.chat.completions.create(\n",
    "          model=genai_model,\n",
    "          messages=[\n",
    "            {\"role\": \"system\", \"content\": system_role_content},\n",
    "            {\"role\": \"user\", \"content\": content_for_model}\n",
    "          ]\n",
    "        )\n",
    "\n",
    "        argumented_text_result = completion.choices[0].message.content\n",
    "#         argumented_text_result = \"argumented text test\"\n",
    "        temp_df = pd.DataFrame([[entity_id, original_text, system_role_content, prompt\n",
    "                                 , argumented_text_result]], columns=new_cols)\n",
    "        temp_df.to_csv(file_path, mode='a', encoding='utf-8', header=False, index=False)\n",
    "        argumented_results = pd.concat([argumented_results, temp_df], ignore_index=True)\n",
    "\n",
    "    return argumented_results"
   ]
  }
 ],
 "metadata": {
  "kernelspec": {
   "display_name": "Python 3 (ipykernel)",
   "language": "python",
   "name": "python3"
  },
  "language_info": {
   "codemirror_mode": {
    "name": "ipython",
    "version": 3
   },
   "file_extension": ".py",
   "mimetype": "text/x-python",
   "name": "python",
   "nbconvert_exporter": "python",
   "pygments_lexer": "ipython3",
   "version": "3.9.13"
  }
 },
 "nbformat": 4,
 "nbformat_minor": 5
}
