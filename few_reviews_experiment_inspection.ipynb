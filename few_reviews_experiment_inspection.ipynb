{
 "cells": [
  {
   "cell_type": "code",
   "execution_count": 58,
   "id": "64f4cb99",
   "metadata": {},
   "outputs": [],
   "source": [
    "from pathlib import Path\n",
    "import nbformat\n",
    "\n",
    "def load_notebook(notebook_path):\n",
    "    with open(notebook_path, 'r', encoding='utf-8') as f:\n",
    "        nb = nbformat.read(f, as_version=4)\n",
    "    code_cells = [cell.source for cell in nb.cells if cell.cell_type == 'code']\n",
    "    exec('\\n'.join(code_cells), globals())\n",
    "\n",
    "# import written function and variable\n",
    "\n",
    "parent_directory = Path('../../../../')\n",
    "experiment_related_utils_path = parent_directory / 'experiment_related_utils.ipynb'\n",
    "data_preprocessing_utils_path = parent_directory / 'data_preprocessing_utils.ipynb'\n",
    "load_notebook(experiment_related_utils_path)\n",
    "load_notebook(data_preprocessing_utils_path)"
   ]
  },
  {
   "cell_type": "code",
   "execution_count": 3,
   "id": "8ca27f63",
   "metadata": {},
   "outputs": [],
   "source": [
    "import pandas as pd\n",
    "import numpy as np\n",
    "\n",
    "train_df = pd.read_csv(\"research_training_set_with_concatenated_reviews_business_categories_and_feature_vectors.csv\")\n",
    "test_df = pd.read_csv(\"research_test_set_with_concatenated_reviews_business_categories_and_feature_vectors.csv\")"
   ]
  },
  {
   "cell_type": "code",
   "execution_count": 51,
   "id": "ab5e04f0",
   "metadata": {},
   "outputs": [
    {
     "name": "stdout",
     "output_type": "stream",
     "text": [
      "user_distribution:\n",
      " {'min': 1, 'max': 13, 'mean': 5.6301211771494515, 'std': 2.1744341079634166, 'mode': 5.0, 'percentiles': {'25th': 4.0, '50th': 5.0, '75th': 7.0}}\n",
      "business_distribution:\n",
      " {'min': 1, 'max': 15, 'mean': 6.371983914209116, 'std': 2.7195239056128435, 'mode': 5.0, 'percentiles': {'25th': 4.0, '50th': 6.0, '75th': 8.0}}\n"
     ]
    }
   ],
   "source": [
    "user_df, business_df = calcuate_reviews_num(train_df)\n",
    "user_distribution = calculate_distribution(user_df[\"reviews_num\"])\n",
    "business_distribution = calculate_distribution(business_df[\"reviews_num\"])\n",
    "print(\"user_distribution:\\n\", user_distribution)\n",
    "print(\"business_distribution:\\n\", business_distribution)"
   ]
  },
  {
   "cell_type": "code",
   "execution_count": 59,
   "id": "2d2636b0",
   "metadata": {},
   "outputs": [
    {
     "name": "stdout",
     "output_type": "stream",
     "text": [
      "Percent: 100 %\n",
      "User threshold reviews num: 2\n",
      "User reviews num comparison method: equal\n",
      "User threshold reviews num range: None\n",
      "Business threshold reviews num: 100000\n",
      "Business reviews num comparison method: max\n",
      "Business threshold reviews num range: None\n",
      "Generative AI model: GPT-3.5 Turbo\n",
      "Sampling_method: random\n",
      "Column: None\n",
      "\n",
      "\n",
      "-----------------------------------------------------------\n",
      "\n",
      "\n",
      "filtered_reviews_num: 94\n",
      "filtered_users_count: 47\n",
      "filtered_businesses_count: 91\n",
      "run_id: 14f0d31db82147daa380bcfb0777f6e4\n",
      "experiment_name: ori_f4_bbs_tt\n",
      "task_type: regression\n",
      "model_name AutoInt\n",
      "Start predicting with AutoInt model ...\n"
     ]
    },
    {
     "name": "stderr",
     "output_type": "stream",
     "text": [
      "<string>:468: SettingWithCopyWarning: \n",
      "A value is trying to be set on a copy of a slice from a DataFrame.\n",
      "Try using .loc[row_indexer,col_indexer] = value instead\n",
      "\n",
      "See the caveats in the documentation: https://pandas.pydata.org/pandas-docs/stable/user_guide/indexing.html#returning-a-view-versus-a-copy\n"
     ]
    },
    {
     "data": {
      "application/vnd.jupyter.widget-view+json": {
       "model_id": "1c9d3ecf4577413e91f400bcbd25ab13",
       "version_major": 2,
       "version_minor": 0
      },
      "text/plain": [
       "Downloading artifacts:   0%|          | 0/10 [00:00<?, ?it/s]"
      ]
     },
     "metadata": {},
     "output_type": "display_data"
    },
    {
     "name": "stderr",
     "output_type": "stream",
     "text": [
      "2024/04/18 14:58:09 INFO mlflow.store.artifact.artifact_repo: The progress bar can be disabled by setting the environment variable MLFLOW_ENABLE_ARTIFACTS_PROGRESS_BAR to false\n"
     ]
    },
    {
     "name": "stdout",
     "output_type": "stream",
     "text": [
      "ori_f4_bbs_tt:\n",
      " {'rmse': 2.0383230600996542, 'mse': 4.154760897334018, 'mae': 1.5204076983711936, 'accuracy': 0.0, 'auc_score': 0.0, 'f1': 0.0, 'precision': 0.0, 'recall': 0.0, 'specificity': 0.0}\n",
      "run_id: 55e5b114e62a4cc7881f882c9872dc9c\n",
      "experiment_name: f4_gp1_m1_bbs_tt\n",
      "task_type: regression\n",
      "model_name AutoInt\n",
      "Start predicting with AutoInt model ...\n"
     ]
    },
    {
     "data": {
      "application/vnd.jupyter.widget-view+json": {
       "model_id": "bc955d086f0f4929b270f0e9cbc90b5a",
       "version_major": 2,
       "version_minor": 0
      },
      "text/plain": [
       "Downloading artifacts:   0%|          | 0/10 [00:00<?, ?it/s]"
      ]
     },
     "metadata": {},
     "output_type": "display_data"
    },
    {
     "name": "stderr",
     "output_type": "stream",
     "text": [
      "2024/04/18 14:58:09 INFO mlflow.store.artifact.artifact_repo: The progress bar can be disabled by setting the environment variable MLFLOW_ENABLE_ARTIFACTS_PROGRESS_BAR to false\n"
     ]
    },
    {
     "name": "stdout",
     "output_type": "stream",
     "text": [
      "f4_gp1_m1_bbs_tt:\n",
      " {'rmse': 1.4628609474847467, 'mse': 2.139962151675971, 'mae': 1.3037982203743674, 'accuracy': 0.0, 'auc_score': 0.0, 'f1': 0.0, 'precision': 0.0, 'recall': 0.0, 'specificity': 0.0}\n"
     ]
    }
   ],
   "source": [
    "run_id_experiment_task_model = {\n",
    "    \"run_id\": [\"14f0d31db82147daa380bcfb0777f6e4\", \"55e5b114e62a4cc7881f882c9872dc9c\"],\n",
    "    \"experiment_name\": [\"ori_f4_bbs_tt\", \"f4_gp1_m1_bbs_tt\"],\n",
    "    \"task_type\": \"regression\",\n",
    "    \"model_name\": \"AutoInt\"\n",
    "}\n",
    "\n",
    "results = few_reviews_performance_inspection(train_df, test_df, run_id_experiment_task_model, \n",
    "                                       user_reviews_num=2,user_comparison=\"equal\", \n",
    "                                       user_reviews_num_range=None, business_reviews_num=100000,\n",
    "                                       business_comparison=\"max\", business_reviews_num_range=None)\n",
    "\n",
    "# print(results)"
   ]
  }
 ],
 "metadata": {
  "kernelspec": {
   "display_name": "Python 3 (ipykernel)",
   "language": "python",
   "name": "python3"
  },
  "language_info": {
   "codemirror_mode": {
    "name": "ipython",
    "version": 3
   },
   "file_extension": ".py",
   "mimetype": "text/x-python",
   "name": "python",
   "nbconvert_exporter": "python",
   "pygments_lexer": "ipython3",
   "version": "3.9.13"
  }
 },
 "nbformat": 4,
 "nbformat_minor": 5
}
